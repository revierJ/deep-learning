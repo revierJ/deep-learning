{
 "cells": [
  {
   "cell_type": "code",
   "execution_count": 7,
   "metadata": {
    "collapsed": true
   },
   "outputs": [],
   "source": [
    "from os import path\n",
    "import struct\n",
    "import numpy as np\n"
   ]
  },
  {
   "cell_type": "code",
   "execution_count": 23,
   "metadata": {},
   "outputs": [],
   "source": [
    "def load_mnist():\n",
    "#     print(path.abspath('load_data.ipynb')) # 获取绝对路径\n",
    "#     label_path = os.path.join(path,'%s-labels-idx1-ubyte' %kind)\n",
    "#     image_path = os.path.join(path,'%s-images-idx3-ubyte' %kind)\n",
    "    with open('train-labels.idx1-ubyte',\"rb\") as lbfile:\n",
    "        magic, n = struct.unpack('>II', lbfile.read(8))\n",
    "        labels = np.fromfile(lbfile, dtype=np.uint8)\n",
    "    with open('train-images.idx3-ubyte','rb') as imfile:\n",
    "        magic, n, row, clom = struct.unpack('>IIII',imfile.read(16))\n",
    "        images = np.fromfile(imfile,dtype=np.uint8).reshape(len(labels),784)  # 每张图片为28*28的size\n",
    "    return images, labels\n",
    "train_image, train_label = load_mnist()"
   ]
  },
  {
   "cell_type": "code",
   "execution_count": 28,
   "metadata": {},
   "outputs": [
    {
     "name": "stdout",
     "output_type": "stream",
     "text": [
      "(60000, 784)\n",
      "(60000,)\n"
     ]
    }
   ],
   "source": [
    "print(train_image.shape)\n",
    "print(train_label.shape)"
   ]
  },
  {
   "cell_type": "code",
   "execution_count": 48,
   "metadata": {},
   "outputs": [],
   "source": [
    "import tensorflow as tf\n",
    "from keras.models import Sequential\n",
    "from keras.layers import Dense,Flatten,Conv2D,MaxPooling2D\n",
    "from keras.optimizers import SGD"
   ]
  },
  {
   "cell_type": "code",
   "execution_count": 38,
   "metadata": {
    "collapsed": true
   },
   "outputs": [],
   "source": [
    "from keras.datasets import mnist\n",
    "from keras.utils import to_categorical"
   ]
  },
  {
   "cell_type": "code",
   "execution_count": 32,
   "metadata": {},
   "outputs": [
    {
     "name": "stdout",
     "output_type": "stream",
     "text": [
      "Downloading data from https://s3.amazonaws.com/img-datasets/mnist.npz\n",
      "11337728/11490434 [============================>.] - ETA: 0s"
     ]
    }
   ],
   "source": [
    "(image_train, label_train),(image_test, label_test) = mnist.load_data()"
   ]
  },
  {
   "cell_type": "code",
   "execution_count": 51,
   "metadata": {},
   "outputs": [
    {
     "name": "stdout",
     "output_type": "stream",
     "text": [
      "<class 'numpy.ndarray'> <class 'numpy.ndarray'>\n",
      "(60000, 28, 28, 1)\n",
      "(10000, 28, 28, 1)\n"
     ]
    }
   ],
   "source": [
    "print(type(image_train),type(label_train))\n",
    "print(image_train.shape)\n",
    "print(image_test.shape)"
   ]
  },
  {
   "cell_type": "code",
   "execution_count": 39,
   "metadata": {},
   "outputs": [],
   "source": [
    "image_train = image_train.reshape(60000,28,28,1)    # 以tensorflow为后端时，通道放在最后一维\n",
    "image_test = image_test.reshape(10000,28,28,1)\n",
    "label_train = to_categorical(lab el_train, num_classes=10)    # one-hot编码为十类\n",
    "label_test = to_categorical(label_test, num_classes=10)"
   ]
  },
  {
   "cell_type": "markdown",
   "metadata": {},
   "source": [
    "## 模拟LeNet-5\n",
    "### LeNet-5特点\n",
    "* 输入图片shape为32x32x1，不加输入层，总共为7层结构，其中两层卷积两层池化嵌套，再加三层全连接层，最后一个全连接层为输出。\n",
    "### 实现疑问\n",
    "* LeNet-5的模型输入层为32x32大小，可为什么MNIST数据集的每张图片大小是28x28？"
   ]
  },
  {
   "cell_type": "code",
   "execution_count": 60,
   "metadata": {},
   "outputs": [
    {
     "name": "stdout",
     "output_type": "stream",
     "text": [
      "input size: (60000, 28, 28, 1)\n",
      "layer one shape: (None, 24, 24, 6)\n",
      "layer tow shape: (None, 12, 12, 6)\n",
      "layer three shape: (None, 8, 8, 16)\n",
      "layer four shape: (None, 4, 4, 16)\n",
      "Epoch 1/2\n",
      "60000/60000 [==============================] - 26s - loss: 0.3271 - acc: 0.9056    \n",
      "Epoch 2/2\n",
      "60000/60000 [==============================] - 25s - loss: 0.1267 - acc: 0.9611    \n",
      " 9920/10000 [============================>.] - ETA: 0s\n",
      "\n",
      "total loss on testing set: 0.110166930688\n",
      "accuracy of testing set: 0.9648\n"
     ]
    }
   ],
   "source": [
    "# create model\n",
    "lenet = Sequential()\n",
    "print(\"input size:\",image_train.shape)\n",
    "L1 = Conv2D(filters=6,kernel_size=(5,5),padding='valid',input_shape=(28,28,1),activation='tanh')\n",
    "lenet.add(L1)  # 6*24*24\n",
    "print(\"layer one shape:\",L1.output_shape)\n",
    "L2 = MaxPooling2D()\n",
    "lenet.add(L2)  #默认的pool_size为（2,2）\n",
    "print(\"layer tow shape:\",L2.output_shape)\n",
    "L3 = Conv2D(16,(5,5),padding='valid',activation='tanh')\n",
    "lenet.add(L3)\n",
    "L4 = MaxPooling2D()\n",
    "lenet.add(L4)    # 16个4*4的矩阵\n",
    "lenet.add(Flatten())    # 将矩阵压平为一维\n",
    "print(\"layer three shape:\",L3.output_shape)\n",
    "print(\"layer four shape:\",L4.output_shape)\n",
    "lenet.add(Dense(120,activation='tanh'))\n",
    "lenet.add(Dense(84,activation='tanh'))\n",
    "lenet.add(Dense(10,activation='softmax'))\n",
    "# compile model\n",
    "lenet.compile(loss='categorical_crossentropy', optimizer=SGD(lr=0.1),metrics=['accuracy'])\n",
    "# train model\n",
    "lenet.fit(image_train,label_train,batch_size=128,epochs=2)\n",
    "# 评估模型\n",
    "score = lenet.evaluate(image_test,label_test)\n",
    "print(\"\\n\")\n",
    "print(\"total loss on testing set:\", score[0])\n",
    "print(\"accuracy of testing set:\", score[1])"
   ]
  },
  {
   "cell_type": "code",
   "execution_count": null,
   "metadata": {
    "collapsed": true
   },
   "outputs": [],
   "source": []
  }
 ],
 "metadata": {
  "kernelspec": {
   "display_name": "Python 3",
   "language": "python",
   "name": "python3"
  },
  "language_info": {
   "codemirror_mode": {
    "name": "ipython",
    "version": 3
   },
   "file_extension": ".py",
   "mimetype": "text/x-python",
   "name": "python",
   "nbconvert_exporter": "python",
   "pygments_lexer": "ipython3",
   "version": "3.5.3"
  }
 },
 "nbformat": 4,
 "nbformat_minor": 2
}
